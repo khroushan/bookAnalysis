{
 "cells": [
  {
   "cell_type": "markdown",
   "metadata": {},
   "source": [
    "#### Markovian Analysis of text\n",
    "The functions relating to Markovian analysis of the text are from book * Think Python *"
   ]
  },
  {
   "cell_type": "code",
   "execution_count": 1,
   "metadata": {
    "collapsed": true
   },
   "outputs": [],
   "source": [
    "import string\n",
    "import numpy as np\n",
    "import os"
   ]
  },
  {
   "cell_type": "code",
   "execution_count": 2,
   "metadata": {
    "collapsed": true
   },
   "outputs": [],
   "source": [
    "def word_analysis(file_name):\n",
    "    \"\"\" read a text file and make a list of words\"\"\"\n",
    "    # open file\n",
    "    try:\n",
    "        fin = open(file_name)\n",
    "    except:\n",
    "        print('The file can not be opened')\n",
    "        \n",
    "    lines = fin.readlines()\n",
    "    print('Number of lines of file \"%s\" is %d' %(file_name, len(lines)))\n",
    "    word_list = []\n",
    "    lcount = 0\n",
    "    for line in lines:\n",
    "        # split the line into words\n",
    "        line = line.replace('-', '')\n",
    "        for word in line.split():\n",
    "            # get rid of white space and punctuation\n",
    "            word = word.strip(string.whitespace + string.punctuation)\n",
    "            word = word.lower()\n",
    "            word_list.append(word)\n",
    "    return word_list"
   ]
  },
  {
   "cell_type": "code",
   "execution_count": 3,
   "metadata": {
    "collapsed": true
   },
   "outputs": [],
   "source": [
    "def shift(t, word):\n",
    "    \"\"\" forms a new tuple by removing the head and adding word to the tail.\n",
    "    t: tuple of strings for the prefix\n",
    "    word: string\n",
    "    \n",
    "    returns: tuple of strings\"\"\"\n",
    "    return t[1:] + (word,)"
   ]
  },
  {
   "cell_type": "code",
   "execution_count": 4,
   "metadata": {
    "collapsed": true
   },
   "outputs": [],
   "source": [
    "def word_process(word_list, order=2):\n",
    "    \"\"\" processes each words\n",
    "    \n",
    "    during the first few iteration, all we do is store up the words;\n",
    "    after that we start adding entries to the dictionary.\n",
    "    \"\"\"\n",
    "    prefix = ()\n",
    "    suffix_map = {}\n",
    "    \n",
    "    for word in word_list:\n",
    "        if len(prefix) < order:\n",
    "            prefix  += (word, )\n",
    "            continue\n",
    "        try:\n",
    "            suffix_map[prefix].append(word)\n",
    "        except KeyError:\n",
    "            # if there is no entry for this prefix make one\n",
    "            suffix_map[prefix] = [word]\n",
    "        \n",
    "        prefix = shift(prefix, word)\n",
    "            \n",
    "        \n",
    "    return suffix_map    \n",
    "        "
   ]
  },
  {
   "cell_type": "code",
   "execution_count": 5,
   "metadata": {},
   "outputs": [
    {
     "name": "stdout",
     "output_type": "stream",
     "text": [
      "Number of lines of file \"./Jane_Austin/Emma.txt\" is 16633\n",
      "the length of suffix map dictionary: 73170\n"
     ]
    }
   ],
   "source": [
    "# test if it works\n",
    "file_name = './Jane_Austin/Emma.txt'\n",
    "sdics = word_process(word_analysis(file_name),2)\n",
    "print('the length of suffix map dictionary: %d' %len(sdics))\n",
    "# sdics\n",
    "# print(len(word_analysis(file_name)))\n",
    "# words = ['this', 'that', 'which', 'element', 'those', 'coffee']\n",
    "# prefix = ('a', 'b')\n",
    "# dls = {}\n",
    "# word = 'this'\n",
    "# for word in words:\n",
    "#     try:\n",
    "#         dls[prefix].append(word)\n",
    "#     except:\n",
    "#         dls[prefix] = [word]\n",
    "    \n",
    "# print(dls)\n",
    "# for key in sdics.keys():\n",
    "#     print(key, sdics[key])"
   ]
  }
 ],
 "metadata": {
  "kernelspec": {
   "display_name": "Python 3",
   "language": "python",
   "name": "python3"
  },
  "language_info": {
   "codemirror_mode": {
    "name": "ipython",
    "version": 3
   },
   "file_extension": ".py",
   "mimetype": "text/x-python",
   "name": "python",
   "nbconvert_exporter": "python",
   "pygments_lexer": "ipython3",
   "version": "3.6.3"
  }
 },
 "nbformat": 4,
 "nbformat_minor": 2
}
